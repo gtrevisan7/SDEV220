{
 "cells": [
  {
   "cell_type": "markdown",
   "id": "d4b09899-f222-4cd0-8e27-7d9b8e15bda2",
   "metadata": {},
   "source": [
    "7.4"
   ]
  },
  {
   "cell_type": "code",
   "execution_count": 27,
   "id": "62cf1020-49c1-4af5-bb55-dde9a1977203",
   "metadata": {},
   "outputs": [],
   "source": [
    "things = [\"mozzarella\", \"cinderella\", \"salmonella\"]"
   ]
  },
  {
   "cell_type": "markdown",
   "id": "9d60e5dd-6142-4d71-aae5-b5da8cdf09fb",
   "metadata": {},
   "source": [
    "7.5"
   ]
  },
  {
   "cell_type": "code",
   "execution_count": 30,
   "id": "60c7bea1-0948-4476-9753-dfcaf2bfbbfd",
   "metadata": {},
   "outputs": [
    {
     "name": "stdout",
     "output_type": "stream",
     "text": [
      "['mozzarella', 'Cinderella', 'salmonella']\n"
     ]
    }
   ],
   "source": [
    "things = [\"mozzarella\", \"cinderella\", \"salmonella\"]\n",
    "things[1] = things[1].capitalize()\n",
    "print(things)"
   ]
  },
  {
   "cell_type": "markdown",
   "id": "86d2e433-5035-45f0-a267-ac508238d895",
   "metadata": {},
   "source": [
    "Yes, capitalizing Cinderella changed that element in the list but not the others."
   ]
  },
  {
   "cell_type": "markdown",
   "id": "6987be04-7d13-4a2e-8c7a-c217a2eeec60",
   "metadata": {},
   "source": [
    "7.6"
   ]
  },
  {
   "cell_type": "code",
   "execution_count": 39,
   "id": "73ff0b2f-ec50-4390-9a26-1ce07f9f8b8f",
   "metadata": {},
   "outputs": [
    {
     "name": "stdout",
     "output_type": "stream",
     "text": [
      "['MOZZARELLA', 'Cinderella', 'salmonella']\n"
     ]
    }
   ],
   "source": [
    "things = [\"mozzarella\", \"Cinderella\", \"salmonella\"]\n",
    "things[0] = things[0].upper()\n",
    "print(things)"
   ]
  },
  {
   "cell_type": "markdown",
   "id": "14fe1128-e9f5-4e2d-9912-9381ebd0f9aa",
   "metadata": {},
   "source": [
    "7.7"
   ]
  },
  {
   "cell_type": "code",
   "execution_count": 44,
   "id": "fb2f1081-2a76-4520-a75a-fa8e5c28fae4",
   "metadata": {},
   "outputs": [
    {
     "name": "stdout",
     "output_type": "stream",
     "text": [
      "['MOZZARELLA', 'Cinderella']\n"
     ]
    }
   ],
   "source": [
    "things = [\"MOZZARELLA\", \"Cinderella\", \"salmonella\"]\n",
    "things.remove(\"salmonella\")\n",
    "print(things)"
   ]
  },
  {
   "cell_type": "markdown",
   "id": "406dfa98-83ec-414f-a565-c51db2cd35ac",
   "metadata": {},
   "source": [
    "9.1"
   ]
  },
  {
   "cell_type": "code",
   "execution_count": 59,
   "id": "54fc4459-7498-4bae-bcd5-09fb2c4c208a",
   "metadata": {},
   "outputs": [
    {
     "name": "stdout",
     "output_type": "stream",
     "text": [
      "['Harry', 'Ron', 'Hermione']\n"
     ]
    }
   ],
   "source": [
    "def good():\n",
    "    return [\"Harry\", \"Ron\", \"Hermione\"]\n",
    "output = good()\n",
    "print(output)"
   ]
  },
  {
   "cell_type": "markdown",
   "id": "a05cfc8a-4390-458c-ab6e-9acfb284e2f6",
   "metadata": {},
   "source": [
    "9.2"
   ]
  },
  {
   "cell_type": "code",
   "execution_count": 72,
   "id": "3925f1cd-20f4-4954-bcab-e9e63b4dd06f",
   "metadata": {},
   "outputs": [
    {
     "name": "stdout",
     "output_type": "stream",
     "text": [
      "5\n"
     ]
    }
   ],
   "source": [
    "def get_odds():\n",
    "    for i in range(10):\n",
    "        if i % 2 != 0:\n",
    "            yield i\n",
    "odds = get_odds()\n",
    "n = 0\n",
    "for value in odds:\n",
    "    if n == 2:\n",
    "        third_value = value\n",
    "        break\n",
    "print(third_value)"
   ]
  },
  {
   "cell_type": "code",
   "execution_count": null,
   "id": "17837905-22c4-446a-8d86-ceba98582a7b",
   "metadata": {},
   "outputs": [],
   "source": []
  }
 ],
 "metadata": {
  "kernelspec": {
   "display_name": "Python [conda env:base] *",
   "language": "python",
   "name": "conda-base-py"
  },
  "language_info": {
   "codemirror_mode": {
    "name": "ipython",
    "version": 3
   },
   "file_extension": ".py",
   "mimetype": "text/x-python",
   "name": "python",
   "nbconvert_exporter": "python",
   "pygments_lexer": "ipython3",
   "version": "3.12.7"
  }
 },
 "nbformat": 4,
 "nbformat_minor": 5
}
