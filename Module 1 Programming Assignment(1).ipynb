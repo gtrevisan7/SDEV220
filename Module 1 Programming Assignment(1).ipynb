{
 "cells": [
  {
   "cell_type": "code",
   "execution_count": 10,
   "id": "3fdedb97-cf52-46cd-8966-7154225e77b0",
   "metadata": {},
   "outputs": [
    {
     "data": {
      "text/plain": [
       "24"
      ]
     },
     "execution_count": 10,
     "metadata": {},
     "output_type": "execute_result"
    }
   ],
   "source": [
    "60 * 60\n",
    "seconds_per_hour = 60 * 60\n",
    "seconds_per_hour * 24\n",
    "seconds_per_day = seconds_per_hour * 24\n",
    "seconds_per_day // seconds_per_hour\n",
    "seconds_per_day // seconds_per_hour"
   ]
  },
  {
   "cell_type": "markdown",
   "id": "3c625142-b555-47a2-8e78-b674bc360fc7",
   "metadata": {},
   "source": [
    "3.1: 3600\n",
    "3.3: 86400\n",
    "3.6: Yes"
   ]
  }
 ],
 "metadata": {
  "kernelspec": {
   "display_name": "Python [conda env:base] *",
   "language": "python",
   "name": "conda-base-py"
  },
  "language_info": {
   "codemirror_mode": {
    "name": "ipython",
    "version": 3
   },
   "file_extension": ".py",
   "mimetype": "text/x-python",
   "name": "python",
   "nbconvert_exporter": "python",
   "pygments_lexer": "ipython3",
   "version": "3.12.7"
  }
 },
 "nbformat": 4,
 "nbformat_minor": 5
}
