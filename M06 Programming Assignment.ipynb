{
 "cells": [
  {
   "cell_type": "code",
   "execution_count": 1,
   "id": "bda33333-e10b-4949-b88d-6980f303b6d3",
   "metadata": {},
   "outputs": [],
   "source": [
    "from datetime import date\n",
    "with open(\"today.txt\", \"w\") as file:\n",
    "    file.write(str(date.today()))"
   ]
  },
  {
   "cell_type": "code",
   "execution_count": 3,
   "id": "6ea0e786-fc83-4c10-88a7-b616fe424437",
   "metadata": {},
   "outputs": [],
   "source": [
    "with open(\"today.txt\", \"r\") as file:\n",
    "    today_string = file.read()"
   ]
  },
  {
   "cell_type": "code",
   "execution_count": 11,
   "id": "85d84859-5655-4013-8789-ae937c121b44",
   "metadata": {},
   "outputs": [
    {
     "name": "stdout",
     "output_type": "stream",
     "text": [
      "2025-02-23\n"
     ]
    }
   ],
   "source": [
    "from datetime import datetime\n",
    "today_date = datetime.strptime(today_string, \"%Y-%m-%d\").date()\n",
    "print(today_date)"
   ]
  },
  {
   "cell_type": "code",
   "execution_count": 29,
   "id": "c7d268d6-8d0d-4c3a-89c7-ac5613e678b9",
   "metadata": {},
   "outputs": [
    {
     "name": "stdout",
     "output_type": "stream",
     "text": [
      "22:37:18\n",
      "22:37:19\n",
      "22:37:19\n"
     ]
    }
   ],
   "source": [
    "import concurrent.futures\n",
    "import time\n",
    "import random\n",
    "from datetime import datetime\n",
    "\n",
    "def print_time():\n",
    "    time.sleep(random.uniform(0, 1))\n",
    "    print(datetime.now().strftime('%H:%M:%S'))\n",
    "\n",
    "with concurrent.futures.ThreadPoolExecutor(max_workers=3) as executor:\n",
    "    futures = [executor.submit(print_time) for _ in range(3)]\n",
    "    \n",
    "    \n",
    "    concurrent.futures.wait(futures)"
   ]
  },
  {
   "cell_type": "code",
   "execution_count": null,
   "id": "b36b21dc-0d25-4998-a24a-a8cadb69017a",
   "metadata": {},
   "outputs": [],
   "source": []
  }
 ],
 "metadata": {
  "kernelspec": {
   "display_name": "Python [conda env:base] *",
   "language": "python",
   "name": "conda-base-py"
  },
  "language_info": {
   "codemirror_mode": {
    "name": "ipython",
    "version": 3
   },
   "file_extension": ".py",
   "mimetype": "text/x-python",
   "name": "python",
   "nbconvert_exporter": "python",
   "pygments_lexer": "ipython3",
   "version": "3.12.7"
  }
 },
 "nbformat": 4,
 "nbformat_minor": 5
}
