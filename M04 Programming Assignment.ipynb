{
 "cells": [
  {
   "cell_type": "markdown",
   "id": "e2a3ab8d-b6e8-4bd8-8068-b5d6f0b85fe8",
   "metadata": {},
   "source": [
    "11.1"
   ]
  },
  {
   "cell_type": "code",
   "execution_count": 4,
   "id": "fd9b1a97-ce9b-44f7-914c-027a30543510",
   "metadata": {},
   "outputs": [
    {
     "name": "stdout",
     "output_type": "stream",
     "text": [
      "Open 9-5 daily\n"
     ]
    }
   ],
   "source": [
    "import zoo\n",
    "zoo.hours()"
   ]
  },
  {
   "cell_type": "markdown",
   "id": "74892b11-219a-481c-918f-2fd6b218c43c",
   "metadata": {},
   "source": [
    "11.2"
   ]
  },
  {
   "cell_type": "code",
   "execution_count": 21,
   "id": "1e19aaa8-5ec9-4d59-ac28-70dd263e114f",
   "metadata": {},
   "outputs": [
    {
     "name": "stdout",
     "output_type": "stream",
     "text": [
      "Open 9-5 daily\n"
     ]
    }
   ],
   "source": [
    "import zoo as menagerie\n",
    "menagerie.hours()"
   ]
  },
  {
   "cell_type": "markdown",
   "id": "6ba8fa3a-7442-415a-b6f6-4d6f6d0014dc",
   "metadata": {},
   "source": [
    "16.4"
   ]
  },
  {
   "cell_type": "code",
   "execution_count": 1,
   "id": "6cd7a0c6-579b-48d7-9df0-7dad5e8f4290",
   "metadata": {},
   "outputs": [],
   "source": [
    "import sqlite3\n",
    "\n",
    "conn = sqlite3.connect(\"books.db\")\n",
    "cur = conn.cursor()\n",
    "\n",
    "cur.execute('''CREATE TABLE books (\n",
    "                title TEXT,\n",
    "                author TEXT,\n",
    "                year INTEGER)''')\n",
    "\n",
    "conn.commit()\n",
    "conn.close()"
   ]
  },
  {
   "cell_type": "code",
   "execution_count": 5,
   "id": "fb63284c-2bdc-4646-bd3e-dd5587e64d6f",
   "metadata": {},
   "outputs": [
    {
     "name": "stdout",
     "output_type": "stream",
     "text": [
      "Perdido Street Station\n",
      "Small Gods\n",
      "The Spellman Files\n",
      "The Weirdstone of Brisingamen\n",
      "Thud!\n"
     ]
    }
   ],
   "source": [
    "from sqlalchemy import create_engine, MetaData, Table, select\n",
    "\n",
    "engine = create_engine(\"sqlite:///books.db\")\n",
    "conn = engine.connect()\n",
    "\n",
    "metadata = MetaData()\n",
    "books = Table(\"books\", metadata, autoload_with=engine)\n",
    "\n",
    "query = select(books.c.title).order_by(books.c.title)\n",
    "\n",
    "result = conn.execute(query)\n",
    "\n",
    "for row in result:\n",
    "    print(row[0])\n",
    "\n",
    "conn.close()"
   ]
  },
  {
   "cell_type": "code",
   "execution_count": null,
   "id": "1db684f6-8f9a-4d1f-aa96-b07c2e259eab",
   "metadata": {},
   "outputs": [],
   "source": []
  }
 ],
 "metadata": {
  "kernelspec": {
   "display_name": "Python [conda env:base] *",
   "language": "python",
   "name": "conda-base-py"
  },
  "language_info": {
   "codemirror_mode": {
    "name": "ipython",
    "version": 3
   },
   "file_extension": ".py",
   "mimetype": "text/x-python",
   "name": "python",
   "nbconvert_exporter": "python",
   "pygments_lexer": "ipython3",
   "version": "3.12.7"
  }
 },
 "nbformat": 4,
 "nbformat_minor": 5
}
