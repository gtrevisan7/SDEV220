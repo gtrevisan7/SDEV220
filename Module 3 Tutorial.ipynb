{
 "cells": [
  {
   "cell_type": "code",
   "execution_count": 3,
   "id": "297b696d-b8ae-4c2a-8464-fcdaae45e8c2",
   "metadata": {},
   "outputs": [],
   "source": [
    "class Solution:\n",
    "    # Function to sort an array of 0s, 1s, and 2s\n",
    "    def sort012(self, arr):\n",
    "        count0 = arr.count(0)\n",
    "        count1 = arr.count(1)\n",
    "        count2 = arr.count(2)\n",
    "\n",
    "        arr[:count0] = [0] * count0\n",
    "        arr[count0:count0 + count1] = [1] * count1\n",
    "        arr[count0 + count1:] = [2] * count2"
   ]
  },
  {
   "cell_type": "code",
   "execution_count": 7,
   "id": "a200c7de-9fce-4fd9-a3fd-28b46cba169b",
   "metadata": {},
   "outputs": [],
   "source": [
    "class Solution:\n",
    "    def binarysearch(self, arr, k):\n",
    "        low = 0\n",
    "        high = len(arr) -1\n",
    "        result = -1\n",
    "        \n",
    "        while low <= high:\n",
    "            mid = (low + high) // 2\n",
    "            if arr[mid] >= k:\n",
    "                if arr[mid] == k:\n",
    "                    result = mid\n",
    "                high = mid - 1\n",
    "            else:\n",
    "                low = mid + 1\n",
    "        return result"
   ]
  },
  {
   "cell_type": "code",
   "execution_count": null,
   "id": "0afc305f-16a5-4292-bf08-92741fd9c813",
   "metadata": {},
   "outputs": [],
   "source": []
  }
 ],
 "metadata": {
  "kernelspec": {
   "display_name": "Python [conda env:base] *",
   "language": "python",
   "name": "conda-base-py"
  },
  "language_info": {
   "codemirror_mode": {
    "name": "ipython",
    "version": 3
   },
   "file_extension": ".py",
   "mimetype": "text/x-python",
   "name": "python",
   "nbconvert_exporter": "python",
   "pygments_lexer": "ipython3",
   "version": "3.12.7"
  }
 },
 "nbformat": 4,
 "nbformat_minor": 5
}
